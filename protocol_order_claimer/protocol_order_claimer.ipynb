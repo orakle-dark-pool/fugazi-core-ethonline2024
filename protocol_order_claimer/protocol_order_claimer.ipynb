{
 "cells": [
  {
   "cell_type": "code",
   "execution_count": 1,
   "metadata": {},
   "outputs": [
    {
     "data": {
      "text/plain": [
       "True"
      ]
     },
     "execution_count": 1,
     "metadata": {},
     "output_type": "execute_result"
    }
   ],
   "source": [
    "import os\n",
    "from dotenv import load_dotenv\n",
    "import json\n",
    "import time\n",
    "import web3\n",
    "\n",
    "load_dotenv()"
   ]
  },
  {
   "cell_type": "code",
   "execution_count": 2,
   "metadata": {},
   "outputs": [],
   "source": [
    "w3 = web3.Web3(web3.Web3.HTTPProvider(\"https://api.helium.fhenix.zone/\"))\n",
    "w3.eth.account.enable_unaudited_hdwallet_features()\n",
    "acc = w3.eth.account.from_mnemonic(os.getenv(\"MNEMONIC\"))"
   ]
  },
  {
   "cell_type": "code",
   "execution_count": 3,
   "metadata": {},
   "outputs": [],
   "source": [
    "with open(\n",
    "    \"/Users/kosunghun/codes/projects/fugazi-core-ethonline2024/deployments/testnet/FugaziCore.json\",\n",
    "    \"r\",\n",
    ") as file:\n",
    "    FugaziCore_json = json.load(file)\n",
    "with open(\n",
    "    \"/Users/kosunghun/codes/projects/fugazi-core-ethonline2024/deployments/testnet/FugaziViewerFacet.json\",\n",
    "    \"r\",\n",
    ") as file:\n",
    "    FugaziViewer_json = json.load(file)\n",
    "with open(\n",
    "    \"/Users/kosunghun/codes/projects/fugazi-core-ethonline2024/deployments/testnet/FugaziPoolActionFacet.json\",\n",
    "    \"r\",\n",
    ") as file:\n",
    "    FugaziPoolAction_json = json.load(file)\n",
    "\n",
    "FugaziViewer = w3.eth.contract(\n",
    "    address=FugaziCore_json[\"address\"], abi=FugaziViewer_json[\"abi\"]\n",
    ")\n",
    "FugaziPoolAction = w3.eth.contract(\n",
    "    address=FugaziCore_json[\"address\"], abi=FugaziPoolAction_json[\"abi\"]\n",
    ")"
   ]
  },
  {
   "cell_type": "code",
   "execution_count": 4,
   "metadata": {},
   "outputs": [
    {
     "name": "stdout",
     "output_type": "stream",
     "text": [
      "Total outstanding protocol-owned account's orders are: 1\n",
      "Oldest unclaimed order by protocol-owned account: \n",
      "Pool Id: 20c6a1487f7b228d3eb292c560a5112481371a30bdb1a7584d240bb9fbdaba3d\n",
      "Epoch: 1\n",
      "Pool's state: \n",
      "Epoch: 2 \n",
      "Last Settlement: 1725543875\n"
     ]
    }
   ],
   "source": [
    "totalUnclaimedOrders = FugaziViewer.functions.getUnclaimedProtocolOrdersLength().call()\n",
    "print(f\"Total outstanding protocol-owned account's orders are: {totalUnclaimedOrders}\")\n",
    "\n",
    "oldestUnclaimedOrder = FugaziViewer.functions.getUnclaimedProtocolOrder(0).call()\n",
    "print(\n",
    "    f\"Oldest unclaimed order by protocol-owned account: \\nPool Id: {oldestUnclaimedOrder[0].hex()}\\nEpoch: {oldestUnclaimedOrder[1]}\"\n",
    ")\n",
    "\n",
    "poolInfo = FugaziViewer.functions.getPoolInfo(oldestUnclaimedOrder[0]).call()\n",
    "print(f\"Pool's state: \\nEpoch: {poolInfo[0]} \\nLast Settlement: {poolInfo[1]}\")"
   ]
  },
  {
   "cell_type": "code",
   "execution_count": 6,
   "metadata": {},
   "outputs": [
    {
     "name": "stdout",
     "output_type": "stream",
     "text": [
      "{'code': 3, 'message': 'execution reverted', 'data': '0x5fdb34e8'}\n"
     ]
    }
   ],
   "source": [
    "try:\n",
    "    w3.eth.send_raw_transaction(\n",
    "        acc.sign_transaction(\n",
    "            FugaziPoolAction.functions.claimProtocolOrder(\n",
    "                FugaziViewer.functions.getUnclaimedProtocolOrder(0).call()[0],\n",
    "                FugaziViewer.functions.getUnclaimedProtocolOrder(0).call()[1],\n",
    "            ).build_transaction(\n",
    "                {\n",
    "                    \"from\": acc.address,\n",
    "                    \"nonce\": w3.eth.get_transaction_count(acc.address),\n",
    "                }\n",
    "            )\n",
    "        ).rawTransaction\n",
    "    )\n",
    "except Exception as e:\n",
    "    print(e)"
   ]
  }
 ],
 "metadata": {
  "kernelspec": {
   "display_name": ".venv",
   "language": "python",
   "name": "python3"
  },
  "language_info": {
   "codemirror_mode": {
    "name": "ipython",
    "version": 3
   },
   "file_extension": ".py",
   "mimetype": "text/x-python",
   "name": "python",
   "nbconvert_exporter": "python",
   "pygments_lexer": "ipython3",
   "version": "3.12.4"
  }
 },
 "nbformat": 4,
 "nbformat_minor": 2
}
